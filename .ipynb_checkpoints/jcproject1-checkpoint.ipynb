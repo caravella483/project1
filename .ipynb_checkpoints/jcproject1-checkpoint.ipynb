{
 "cells": [
  {
   "cell_type": "code",
   "execution_count": 1,
   "metadata": {},
   "outputs": [],
   "source": [
    "#import\n",
    "\n",
    "import numpy as np \n",
    "import pandas as pd \n",
    "import matplotlib.pyplot as plt"
   ]
  },
  {
   "cell_type": "code",
   "execution_count": 2,
   "metadata": {},
   "outputs": [
    {
     "name": "stdout",
     "output_type": "stream",
     "text": [
      "<class 'pandas.core.frame.DataFrame'>\n",
      "RangeIndex: 1048575 entries, 0 to 1048574\n",
      "Data columns (total 49 columns):\n",
      "ID                       1048575 non-null object\n",
      "Source                   1048575 non-null object\n",
      "TMC                      1048575 non-null int64\n",
      "Severity                 1048575 non-null int64\n",
      "Start_Time               1048575 non-null object\n",
      "End_Time                 1048575 non-null object\n",
      "Start_Lat                1048575 non-null float64\n",
      "Start_Lng                1048575 non-null float64\n",
      "End_Lat                  0 non-null float64\n",
      "End_Lng                  0 non-null float64\n",
      "Distance(mi)             1048575 non-null float64\n",
      "Description              1048574 non-null object\n",
      "Number                   396803 non-null float64\n",
      "Street                   1048575 non-null object\n",
      "Side                     1048575 non-null object\n",
      "City                     1048548 non-null object\n",
      "County                   1048575 non-null object\n",
      "State                    1048575 non-null object\n",
      "Zipcode                  1048435 non-null object\n",
      "Country                  1048575 non-null object\n",
      "Timezone                 1047994 non-null object\n",
      "Airport_Code             1038285 non-null object\n",
      "Weather_Timestamp        1030944 non-null object\n",
      "Temperature(F)           1024516 non-null float64\n",
      "Wind_Chill(F)            173430 non-null float64\n",
      "Humidity(%)              1023464 non-null float64\n",
      "Pressure(in)             1027506 non-null float64\n",
      "Visibility(mi)           1019602 non-null float64\n",
      "Wind_Direction           1030936 non-null object\n",
      "Wind_Speed(mph)          840947 non-null float64\n",
      "Precipitation(in)        121520 non-null float64\n",
      "Weather_Condition        1019624 non-null object\n",
      "Amenity                  1048575 non-null bool\n",
      "Bump                     1048575 non-null bool\n",
      "Crossing                 1048575 non-null bool\n",
      "Give_Way                 1048575 non-null bool\n",
      "Junction                 1048575 non-null bool\n",
      "No_Exit                  1048575 non-null bool\n",
      "Railway                  1048575 non-null bool\n",
      "Roundabout               1048575 non-null bool\n",
      "Station                  1048575 non-null bool\n",
      "Stop                     1048575 non-null bool\n",
      "Traffic_Calming          1048575 non-null bool\n",
      "Traffic_Signal           1048575 non-null bool\n",
      "Turning_Loop             1048575 non-null bool\n",
      "Sunrise_Sunset           1048546 non-null object\n",
      "Civil_Twilight           1048546 non-null object\n",
      "Nautical_Twilight        1048546 non-null object\n",
      "Astronomical_Twilight    1048546 non-null object\n",
      "dtypes: bool(13), float64(13), int64(2), object(21)\n",
      "memory usage: 301.0+ MB\n"
     ]
    }
   ],
   "source": [
    "data = pd.read_csv(\"../US_Accidents_May19.csv\")\n",
    "#weather_data = pd.read_csv(\"../output_data/weather_data.csv\")\n",
    "data.info()"
   ]
  },
  {
   "cell_type": "code",
   "execution_count": null,
   "metadata": {},
   "outputs": [],
   "source": []
  }
 ],
 "metadata": {
  "kernelspec": {
   "display_name": "Python 3",
   "language": "python",
   "name": "python3"
  },
  "language_info": {
   "codemirror_mode": {
    "name": "ipython",
    "version": 3
   },
   "file_extension": ".py",
   "mimetype": "text/x-python",
   "name": "python",
   "nbconvert_exporter": "python",
   "pygments_lexer": "ipython3",
   "version": "3.7.4"
  }
 },
 "nbformat": 4,
 "nbformat_minor": 4
}
