{
 "cells": [
  {
   "cell_type": "code",
   "execution_count": 1,
   "metadata": {},
   "outputs": [],
   "source": [
    "#import\n",
    "\n",
    "import numpy as np \n",
    "import pandas as pd \n",
    "import matplotlib.pyplot as plt\n",
    "from scipy import stats "
   ]
  },
  {
   "cell_type": "code",
   "execution_count": 2,
   "metadata": {},
   "outputs": [],
   "source": [
    "#import data\n",
    "data = pd.read_csv(\"../US_Accidents_May19.csv\")\n",
    "\n"
   ]
  },
  {
   "cell_type": "code",
   "execution_count": 3,
   "metadata": {},
   "outputs": [
    {
     "data": {
      "text/html": [
       "<div>\n",
       "<style scoped>\n",
       "    .dataframe tbody tr th:only-of-type {\n",
       "        vertical-align: middle;\n",
       "    }\n",
       "\n",
       "    .dataframe tbody tr th {\n",
       "        vertical-align: top;\n",
       "    }\n",
       "\n",
       "    .dataframe thead th {\n",
       "        text-align: right;\n",
       "    }\n",
       "</style>\n",
       "<table border=\"1\" class=\"dataframe\">\n",
       "  <thead>\n",
       "    <tr style=\"text-align: right;\">\n",
       "      <th></th>\n",
       "      <th>Severity</th>\n",
       "      <th>State</th>\n",
       "      <th>Visibility(mi)</th>\n",
       "      <th>Weather_Condition</th>\n",
       "      <th>Amenity</th>\n",
       "      <th>Bump</th>\n",
       "      <th>Crossing</th>\n",
       "      <th>Give_Way</th>\n",
       "      <th>Junction</th>\n",
       "      <th>No_Exit</th>\n",
       "      <th>Railway</th>\n",
       "      <th>Roundabout</th>\n",
       "      <th>Station</th>\n",
       "      <th>Stop</th>\n",
       "      <th>Traffic_Calming</th>\n",
       "      <th>Traffic_Signal</th>\n",
       "      <th>Turning_Loop</th>\n",
       "    </tr>\n",
       "  </thead>\n",
       "  <tbody>\n",
       "    <tr>\n",
       "      <td>0</td>\n",
       "      <td>3</td>\n",
       "      <td>OH</td>\n",
       "      <td>10.0</td>\n",
       "      <td>Light Rain</td>\n",
       "      <td>False</td>\n",
       "      <td>False</td>\n",
       "      <td>False</td>\n",
       "      <td>False</td>\n",
       "      <td>False</td>\n",
       "      <td>False</td>\n",
       "      <td>False</td>\n",
       "      <td>False</td>\n",
       "      <td>False</td>\n",
       "      <td>False</td>\n",
       "      <td>False</td>\n",
       "      <td>False</td>\n",
       "      <td>False</td>\n",
       "    </tr>\n",
       "    <tr>\n",
       "      <td>1</td>\n",
       "      <td>2</td>\n",
       "      <td>OH</td>\n",
       "      <td>10.0</td>\n",
       "      <td>Light Rain</td>\n",
       "      <td>False</td>\n",
       "      <td>False</td>\n",
       "      <td>False</td>\n",
       "      <td>False</td>\n",
       "      <td>False</td>\n",
       "      <td>False</td>\n",
       "      <td>False</td>\n",
       "      <td>False</td>\n",
       "      <td>False</td>\n",
       "      <td>False</td>\n",
       "      <td>False</td>\n",
       "      <td>False</td>\n",
       "      <td>False</td>\n",
       "    </tr>\n",
       "    <tr>\n",
       "      <td>2</td>\n",
       "      <td>2</td>\n",
       "      <td>OH</td>\n",
       "      <td>10.0</td>\n",
       "      <td>Overcast</td>\n",
       "      <td>False</td>\n",
       "      <td>False</td>\n",
       "      <td>False</td>\n",
       "      <td>False</td>\n",
       "      <td>False</td>\n",
       "      <td>False</td>\n",
       "      <td>False</td>\n",
       "      <td>False</td>\n",
       "      <td>False</td>\n",
       "      <td>False</td>\n",
       "      <td>False</td>\n",
       "      <td>True</td>\n",
       "      <td>False</td>\n",
       "    </tr>\n",
       "    <tr>\n",
       "      <td>3</td>\n",
       "      <td>3</td>\n",
       "      <td>OH</td>\n",
       "      <td>9.0</td>\n",
       "      <td>Mostly Cloudy</td>\n",
       "      <td>False</td>\n",
       "      <td>False</td>\n",
       "      <td>False</td>\n",
       "      <td>False</td>\n",
       "      <td>False</td>\n",
       "      <td>False</td>\n",
       "      <td>False</td>\n",
       "      <td>False</td>\n",
       "      <td>False</td>\n",
       "      <td>False</td>\n",
       "      <td>False</td>\n",
       "      <td>False</td>\n",
       "      <td>False</td>\n",
       "    </tr>\n",
       "    <tr>\n",
       "      <td>4</td>\n",
       "      <td>2</td>\n",
       "      <td>OH</td>\n",
       "      <td>6.0</td>\n",
       "      <td>Mostly Cloudy</td>\n",
       "      <td>False</td>\n",
       "      <td>False</td>\n",
       "      <td>False</td>\n",
       "      <td>False</td>\n",
       "      <td>False</td>\n",
       "      <td>False</td>\n",
       "      <td>False</td>\n",
       "      <td>False</td>\n",
       "      <td>False</td>\n",
       "      <td>False</td>\n",
       "      <td>False</td>\n",
       "      <td>True</td>\n",
       "      <td>False</td>\n",
       "    </tr>\n",
       "  </tbody>\n",
       "</table>\n",
       "</div>"
      ],
      "text/plain": [
       "   Severity State  Visibility(mi) Weather_Condition  Amenity   Bump  Crossing  \\\n",
       "0         3    OH            10.0        Light Rain    False  False     False   \n",
       "1         2    OH            10.0        Light Rain    False  False     False   \n",
       "2         2    OH            10.0          Overcast    False  False     False   \n",
       "3         3    OH             9.0     Mostly Cloudy    False  False     False   \n",
       "4         2    OH             6.0     Mostly Cloudy    False  False     False   \n",
       "\n",
       "   Give_Way  Junction  No_Exit  Railway  Roundabout  Station   Stop  \\\n",
       "0     False     False    False    False       False    False  False   \n",
       "1     False     False    False    False       False    False  False   \n",
       "2     False     False    False    False       False    False  False   \n",
       "3     False     False    False    False       False    False  False   \n",
       "4     False     False    False    False       False    False  False   \n",
       "\n",
       "   Traffic_Calming  Traffic_Signal  Turning_Loop  \n",
       "0            False           False         False  \n",
       "1            False           False         False  \n",
       "2            False            True         False  \n",
       "3            False           False         False  \n",
       "4            False            True         False  "
      ]
     },
     "execution_count": 3,
     "metadata": {},
     "output_type": "execute_result"
    }
   ],
   "source": [
    "# trim data set to states and TCDs\n",
    "all_states = data.drop(columns=[\"ID\",\"Source\",\"TMC\",\"Start_Time\",\"End_Time\", \"Start_Lat\",\"Start_Lng\",\"End_Lat\",\"End_Lng\",\"Distance(mi)\",\"Description\",\"Number\",\"Street\",\"Side\",\"City\",\"County\",\"Zipcode\",\"Country\",\"Timezone\",\"Airport_Code\",\"Weather_Timestamp\",\"Temperature(F)\",\"Wind_Chill(F)\",\"Humidity(%)\",\"Pressure(in)\",\"Wind_Direction\",\"Wind_Speed(mph)\",\"Precipitation(in)\",\"Sunrise_Sunset\",\"Civil_Twilight\",\"Nautical_Twilight\",\"Astronomical_Twilight\"])\n",
    "#all_states.to_csv('../all_states.csv')\n",
    "all_states.head()"
   ]
  },
  {
   "cell_type": "code",
   "execution_count": 4,
   "metadata": {},
   "outputs": [
    {
     "data": {
      "text/html": [
       "<div>\n",
       "<style scoped>\n",
       "    .dataframe tbody tr th:only-of-type {\n",
       "        vertical-align: middle;\n",
       "    }\n",
       "\n",
       "    .dataframe tbody tr th {\n",
       "        vertical-align: top;\n",
       "    }\n",
       "\n",
       "    .dataframe thead th {\n",
       "        text-align: right;\n",
       "    }\n",
       "</style>\n",
       "<table border=\"1\" class=\"dataframe\">\n",
       "  <thead>\n",
       "    <tr style=\"text-align: right;\">\n",
       "      <th></th>\n",
       "      <th>Severity</th>\n",
       "      <th>State</th>\n",
       "      <th>Visibility(mi)</th>\n",
       "      <th>Weather_Condition</th>\n",
       "      <th>Amenity</th>\n",
       "      <th>Bump</th>\n",
       "      <th>Crossing</th>\n",
       "      <th>Give_Way</th>\n",
       "      <th>Junction</th>\n",
       "      <th>No_Exit</th>\n",
       "      <th>Railway</th>\n",
       "      <th>Roundabout</th>\n",
       "      <th>Station</th>\n",
       "      <th>Stop</th>\n",
       "      <th>Traffic_Calming</th>\n",
       "      <th>Traffic_Signal</th>\n",
       "      <th>Turning_Loop</th>\n",
       "    </tr>\n",
       "  </thead>\n",
       "  <tbody>\n",
       "    <tr>\n",
       "      <td>146261</td>\n",
       "      <td>3</td>\n",
       "      <td>GA</td>\n",
       "      <td>3.0</td>\n",
       "      <td>Rain</td>\n",
       "      <td>False</td>\n",
       "      <td>False</td>\n",
       "      <td>False</td>\n",
       "      <td>False</td>\n",
       "      <td>False</td>\n",
       "      <td>False</td>\n",
       "      <td>False</td>\n",
       "      <td>False</td>\n",
       "      <td>False</td>\n",
       "      <td>False</td>\n",
       "      <td>False</td>\n",
       "      <td>False</td>\n",
       "      <td>False</td>\n",
       "    </tr>\n",
       "    <tr>\n",
       "      <td>146262</td>\n",
       "      <td>3</td>\n",
       "      <td>GA</td>\n",
       "      <td>3.0</td>\n",
       "      <td>Rain</td>\n",
       "      <td>False</td>\n",
       "      <td>False</td>\n",
       "      <td>False</td>\n",
       "      <td>False</td>\n",
       "      <td>False</td>\n",
       "      <td>False</td>\n",
       "      <td>False</td>\n",
       "      <td>False</td>\n",
       "      <td>False</td>\n",
       "      <td>False</td>\n",
       "      <td>False</td>\n",
       "      <td>False</td>\n",
       "      <td>False</td>\n",
       "    </tr>\n",
       "    <tr>\n",
       "      <td>146263</td>\n",
       "      <td>3</td>\n",
       "      <td>GA</td>\n",
       "      <td>2.5</td>\n",
       "      <td>Heavy Rain</td>\n",
       "      <td>False</td>\n",
       "      <td>False</td>\n",
       "      <td>False</td>\n",
       "      <td>False</td>\n",
       "      <td>False</td>\n",
       "      <td>False</td>\n",
       "      <td>False</td>\n",
       "      <td>False</td>\n",
       "      <td>False</td>\n",
       "      <td>False</td>\n",
       "      <td>False</td>\n",
       "      <td>False</td>\n",
       "      <td>False</td>\n",
       "    </tr>\n",
       "  </tbody>\n",
       "</table>\n",
       "</div>"
      ],
      "text/plain": [
       "        Severity State  Visibility(mi) Weather_Condition  Amenity   Bump  \\\n",
       "146261         3    GA             3.0              Rain    False  False   \n",
       "146262         3    GA             3.0              Rain    False  False   \n",
       "146263         3    GA             2.5        Heavy Rain    False  False   \n",
       "\n",
       "        Crossing  Give_Way  Junction  No_Exit  Railway  Roundabout  Station  \\\n",
       "146261     False     False     False    False    False       False    False   \n",
       "146262     False     False     False    False    False       False    False   \n",
       "146263     False     False     False    False    False       False    False   \n",
       "\n",
       "         Stop  Traffic_Calming  Traffic_Signal  Turning_Loop  \n",
       "146261  False            False           False         False  \n",
       "146262  False            False           False         False  \n",
       "146263  False            False           False         False  "
      ]
     },
     "execution_count": 4,
     "metadata": {},
     "output_type": "execute_result"
    }
   ],
   "source": [
    "#get Georgia only\n",
    "ga_only = all_states[all_states['State']=='GA']\n",
    "\n",
    "#ga_only.to_csv('../ga_only.csv')\n",
    "ga_only.head(3)"
   ]
  },
  {
   "cell_type": "code",
   "execution_count": 41,
   "metadata": {},
   "outputs": [],
   "source": [
    "#all states losses with TCDs\n",
    "all_stop_only = all_states[(all_states['Stop']==True)]\n",
    "all_signal_only = all_states[(all_states['Traffic_Signal']==True)]\n",
    "all_giveway_only = all_states[(all_states['Give_Way']==True)]\n",
    "\n",
    "#Ga losses with TCDS\n",
    "ga_stop_only = ga_only[(ga_only['Stop']==True)]\n",
    "ga_signal_only = ga_only[(ga_only['Traffic_Signal']==True)]\n",
    "ga_giveway_only = ga_only[(ga_only['Give_Way']==True)]"
   ]
  },
  {
   "cell_type": "code",
   "execution_count": 42,
   "metadata": {},
   "outputs": [],
   "source": [
    "#all state avergae severity by TCD\n",
    "all_avg_sever_stop = np.average(all_stop_only['Severity'])\n",
    "all_avg_sever_signal = np.average(all_signal_only['Severity'])\n",
    "all_avg_sever_giveway = np.average(all_giveway_only['Severity'])\n",
    "#GA avergae severity by TCD\n",
    "ga_avg_sever_stop = np.average(ga_stop_only['Severity'])\n",
    "ga_avg_sever_signal = np.average(ga_signal_only['Severity'])\n",
    "ga_avg_sever_giveway = np.average(ga_giveway_only['Severity'])"
   ]
  },
  {
   "cell_type": "code",
   "execution_count": 49,
   "metadata": {},
   "outputs": [],
   "source": [
    "#data frame to hold the average severity for all states and one for GA\n",
    "all_data = [['stop', all_avg_sever_stop], ['signal', all_avg_sever_signal], ['giveway',all_avg_sever_giveway]]\n",
    "ga_data = [['ga_stop', ga_avg_sever_stop], ['ga_signal', all_avg_sever_signal], ['ga_giveway',all_avg_sever_giveway]]\n",
    "all_st_avg = pd.DataFrame(all_data, columns = ['TCD', 'Average'])\n",
    "ga_st_avg = pd.DataFrame(ga_data, columns = ['GA_TCD', 'GA_Average'])\n"
   ]
  },
  {
   "cell_type": "code",
   "execution_count": 50,
   "metadata": {},
   "outputs": [
    {
     "data": {
      "image/png": "[encoded data removed]",
      "text/plain": [
       "<Figure size 432x288 with 1 Axes>"
      ]
     },
     "metadata": {
      "needs_background": "light"
     },
     "output_type": "display_data"
    }
   ],
   "source": [
    "#all state Severity graph\n",
    "x = ['Stop Sign', 'Traffic Signal', 'Give Way']\n",
    "y = all_st_avg['Average']\n",
    "\n",
    "fig, ax = plt.subplots()    \n",
    "width = 0.75 # the width of the bars \n",
    "ind = np.arange(len(y))  # the x locations for the groups\n",
    "ax.barh(ind, y, width, color=\"green\")\n",
    "ax.set_yticks(ind+width/2)\n",
    "ax.set_yticklabels(x, minor=False)\n",
    "plt.title('All State Severity by TCD')\n",
    "plt.xlabel('Severity Average')\n",
    "plt.ylabel('Traffic Control Device')      \n",
    "#plt.show()\n",
    "plt.savefig('all_state_tcd_sev.png')"
   ]
  },
  {
   "cell_type": "code",
   "execution_count": 53,
   "metadata": {},
   "outputs": [
    {
     "data": {
      "image/png": "[encoded data removed]",
      "text/plain": [
       "<Figure size 432x288 with 1 Axes>"
      ]
     },
     "metadata": {
      "needs_background": "light"
     },
     "output_type": "display_data"
    }
   ],
   "source": [
    "#GA Severity graph\n",
    "x = ['Stop Sign', 'Traffic Signal', 'Give Way']\n",
    "y = ga_st_avg['GA_Average']\n",
    "\n",
    "fig, ax = plt.subplots()    \n",
    "width = 0.75 # the width of the bars \n",
    "ind = np.arange(len(y))  # the x locations for the groups\n",
    "ax.barh(ind, y, width, color=\"red\")\n",
    "ax.set_yticks(ind+width/2)\n",
    "ax.set_yticklabels(x, minor=False)\n",
    "plt.title('Georgia Severity by TCD')\n",
    "plt.xlabel('Severity Average')\n",
    "plt.ylabel('Traffic Control Device')      \n",
    "#plt.show()\n",
    "plt.savefig('ga_tcd_sev.png')"
   ]
  },
  {
   "cell_type": "code",
   "execution_count": 5,
   "metadata": {},
   "outputs": [
    {
     "data": {
      "text/plain": [
       "<matplotlib.axes._subplots.AxesSubplot at 0x20115912d08>"
      ]
     },
     "execution_count": 5,
     "metadata": {},
     "output_type": "execute_result"
    },
    {
     "data": {
      "image/png": "[encoded data removed]",
      "text/plain": [
       "<Figure size 720x720 with 4 Axes>"
      ]
     },
     "metadata": {
      "needs_background": "light"
     },
     "output_type": "display_data"
    }
   ],
   "source": [
    "#GA which TCD's have accidents\n",
    "fig = plt.figure(figsize=(10,10)) \n",
    "fig_dims = (3, 2)\n",
    "\n",
    "\n",
    "plt.subplot2grid(fig_dims, (0, 0))\n",
    "ga_only['Roundabout'].value_counts().plot(kind='bar', \n",
    "                                     title='Roundabout')\n",
    "plt.subplot2grid(fig_dims, (0, 1))\n",
    "ga_only['Stop'].value_counts().plot(kind='bar', \n",
    "                                     title='Stop')\n",
    "plt.subplot2grid(fig_dims, (1, 0))\n",
    "ga_only['Traffic_Signal'].value_counts().plot(kind='bar', \n",
    "                                     title='Traffic Signal')\n",
    "plt.subplot2grid(fig_dims, (1, 1))\n",
    "ga_only['Crossing'].value_counts().plot(kind='bar', \n",
    "                                     title='Crossing')\n"
   ]
  },
  {
   "cell_type": "code",
   "execution_count": 12,
   "metadata": {},
   "outputs": [
    {
     "data": {
      "text/plain": [
       "<matplotlib.axes._subplots.AxesSubplot at 0x20116886f08>"
      ]
     },
     "execution_count": 12,
     "metadata": {},
     "output_type": "execute_result"
    },
    {
     "data": {
      "image/png": "[encoded data removed]",
      "text/plain": [
       "<Figure size 720x720 with 4 Axes>"
      ]
     },
     "metadata": {
      "needs_background": "light"
     },
     "output_type": "display_data"
    }
   ],
   "source": [
    "#All States which TCD's have accidents\n",
    "fig = plt.figure(figsize=(10,10)) \n",
    "fig_dims = (3, 2)\n",
    "\n",
    "\n",
    "plt.subplot2grid(fig_dims, (0, 0))\n",
    "all_states['Roundabout'].value_counts().plot(kind='bar', \n",
    "                                     title='Roundabout')\n",
    "plt.subplot2grid(fig_dims, (0, 1))\n",
    "all_states['Stop'].value_counts().plot(kind='bar', \n",
    "                                     title='Stop')\n",
    "plt.subplot2grid(fig_dims, (1, 0))\n",
    "all_states['Traffic_Signal'].value_counts().plot(kind='bar', \n",
    "                                     title='Traffic Signal')\n",
    "plt.subplot2grid(fig_dims, (1, 1))\n",
    "all_states['Give_Way'].value_counts().plot(kind='bar', \n",
    "                                     title='Give Way')"
   ]
  },
  {
   "cell_type": "code",
   "execution_count": 56,
   "metadata": {},
   "outputs": [
    {
     "data": {
      "text/plain": [
       "11467"
      ]
     },
     "execution_count": 56,
     "metadata": {},
     "output_type": "execute_result"
    }
   ],
   "source": [
    "#get the counts of all to create a DF for count graph\n",
    "all_avg_counts_stop = all_stop_only['Severity'].count()\n",
    "#all_avg_counts_signal = np.counts(all_signal_only['Severity'])\n",
    "#all_avg_counts_giveway = np.counts(all_giveway_only['Severity'])\n",
    "#GA avergae severity by TCD\n",
    "#ga_avg_sever_stop = np.average(ga_stop_only['Severity'])\n",
    "#ga_avg_sever_signal = np.average(ga_signal_only['Severity'])\n",
    "#ga_avg_sever_giveway = np.average(ga_giveway_only['Severity'])\n",
    "\n",
    "all_avg_counts_stop"
   ]
  },
  {
   "cell_type": "code",
   "execution_count": null,
   "metadata": {},
   "outputs": [],
   "source": []
  }
 ],
 "metadata": {
  "kernelspec": {
   "display_name": "Python 3",
   "language": "python",
   "name": "python3"
  },
  "language_info": {
   "codemirror_mode": {
    "name": "ipython",
    "version": 3
   },
   "file_extension": ".py",
   "mimetype": "text/x-python",
   "name": "python",
   "nbconvert_exporter": "python",
   "pygments_lexer": "ipython3",
   "version": "3.7.4"
  }
 },
 "nbformat": 4,
 "nbformat_minor": 4
}
