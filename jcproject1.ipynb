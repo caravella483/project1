{
 "cells": [
  {
   "cell_type": "code",
   "execution_count": 1,
   "metadata": {},
   "outputs": [],
   "source": [
    "#import\n",
    "\n",
    "import numpy as np \n",
    "import pandas as pd \n",
    "import matplotlib.pyplot as plt\n",
    "from scipy import stats "
   ]
  },
  {
   "cell_type": "code",
   "execution_count": 2,
   "metadata": {},
   "outputs": [],
   "source": [
    "#import data\n",
    "data = pd.read_csv(\"../US_Accidents_May19.csv\")\n",
    "\n"
   ]
  },
  {
   "cell_type": "code",
   "execution_count": 3,
   "metadata": {},
   "outputs": [],
   "source": [
    "# trim data set to states and TCDs, visility and weather \n",
    "all_states = data.drop(columns=[\"ID\",\"Source\",\"TMC\",\"Start_Time\",\"End_Time\", \"Start_Lat\",\"Start_Lng\",\"End_Lat\",\"End_Lng\",\"Distance(mi)\",\"Description\",\"Number\",\"Street\",\"Side\",\"City\",\"County\",\"Zipcode\",\"Country\",\"Timezone\",\"Airport_Code\",\"Weather_Timestamp\",\"Temperature(F)\",\"Wind_Chill(F)\",\"Humidity(%)\",\"Pressure(in)\",\"Wind_Direction\",\"Wind_Speed(mph)\",\"Precipitation(in)\",\"Sunrise_Sunset\",\"Civil_Twilight\",\"Nautical_Twilight\",\"Astronomical_Twilight\"])\n",
    "#all_states.to_csv('../all_states.csv')\n"
   ]
  },
  {
   "cell_type": "code",
   "execution_count": 4,
   "metadata": {},
   "outputs": [],
   "source": [
    "#get Georgia only\n",
    "ga_only = all_states[all_states['State']=='GA']\n",
    "\n",
    "#ga_only.to_csv('../ga_only.csv')\n"
   ]
  },
  {
   "cell_type": "code",
   "execution_count": 5,
   "metadata": {},
   "outputs": [],
   "source": [
    "#all states losses with TCDs\n",
    "all_stop_only = all_states[(all_states['Stop']==True)]\n",
    "all_signal_only = all_states[(all_states['Traffic_Signal']==True)]\n",
    "all_giveway_only = all_states[(all_states['Give_Way']==True)]\n",
    "\n",
    "#Ga losses with TCDS\n",
    "ga_stop_only = ga_only[(ga_only['Stop']==True)]\n",
    "ga_signal_only = ga_only[(ga_only['Traffic_Signal']==True)]\n",
    "ga_giveway_only = ga_only[(ga_only['Give_Way']==True)]\n",
    "\n"
   ]
  },
  {
   "cell_type": "code",
   "execution_count": 6,
   "metadata": {},
   "outputs": [],
   "source": [
    "#all state avergae severity by TCD\n",
    "all_avg_sever_stop = np.average(all_stop_only['Severity'])\n",
    "all_avg_sever_signal = np.average(all_signal_only['Severity'])\n",
    "all_avg_sever_giveway = np.average(all_giveway_only['Severity'])\n",
    "#GA avergae severity by TCD\n",
    "ga_avg_sever_stop = np.average(ga_stop_only['Severity'])\n",
    "ga_avg_sever_signal = np.average(ga_signal_only['Severity'])\n",
    "ga_avg_sever_giveway = np.average(ga_giveway_only['Severity'])"
   ]
  },
  {
   "cell_type": "code",
   "execution_count": 7,
   "metadata": {},
   "outputs": [],
   "source": [
    "#get the counts of all to create a DF for count graph\n",
    "all_counts = len(all_states['State'])\n",
    "all_stop_counts = len(all_stop_only['Severity'])\n",
    "all_signal_counts = len(all_signal_only['Severity'])\n",
    "all_giveway_counts = len(all_giveway_only['Severity'])\n",
    "#GA counts of all in to create a DF for count graph\n",
    "ga_count = len(ga_only['State'])\n",
    "ga_stop_counts = len(ga_stop_only['Severity'])\n",
    "ga_signal_counts = len(ga_signal_only['Severity'])\n",
    "ga_giveway_counts = len(ga_giveway_only['Severity'])\n",
    "\n",
    "\n"
   ]
  },
  {
   "cell_type": "code",
   "execution_count": 8,
   "metadata": {},
   "outputs": [],
   "source": [
    "#get % of accidents in TCDS\n",
    "all_stop_per = all_stop_counts/all_counts\n",
    "all_signal_per = all_signal_counts/all_counts\n",
    "all_giveway_per = all_giveway_counts/all_counts\n",
    "\n",
    "#get % of accidents in ga at TCDS\n",
    "ga_stop_per = ga_stop_counts/ga_count\n",
    "ga_signal_per = ga_signal_counts/ga_count\n",
    "ga_giveway_per = ga_giveway_counts/ga_count\n",
    "\n"
   ]
  },
  {
   "cell_type": "code",
   "execution_count": 9,
   "metadata": {},
   "outputs": [],
   "source": [
    "#data frame for percantages\n",
    "per_all_states = [['Stop', all_stop_per],['Signal', all_signal_per], ['Giveway',all_giveway_per]]\n",
    "ga_per = [['Stop', ga_stop_per], ['Signal', ga_signal_per], ['Giveway',ga_giveway_per]]\n",
    "all_per_df = pd.DataFrame(per_all_states, columns = ['TCD', 'Percentage'])\n",
    "ga_per_df = pd.DataFrame(ga_per, columns = ['TCD', 'Percentage'])"
   ]
  },
  {
   "cell_type": "code",
   "execution_count": 10,
   "metadata": {},
   "outputs": [],
   "source": [
    "#data frame to hold the average severity for all states and one for GA\n",
    "all_data = [['stop', all_avg_sever_stop], ['signal', all_avg_sever_signal], ['giveway',all_avg_sever_giveway]]\n",
    "ga_data = [['ga_stop', ga_avg_sever_stop], ['ga_signal', all_avg_sever_signal], ['ga_giveway',all_avg_sever_giveway]]\n",
    "all_st_avg = pd.DataFrame(all_data, columns = ['TCD', 'Average'])\n",
    "ga_st_avg = pd.DataFrame(ga_data, columns = ['GA_TCD', 'GA_Average'])\n"
   ]
  },
  {
   "cell_type": "code",
   "execution_count": 30,
   "metadata": {},
   "outputs": [
    {
     "data": {
      "text/html": [
       "<div>\n",
       "<style scoped>\n",
       "    .dataframe tbody tr th:only-of-type {\n",
       "        vertical-align: middle;\n",
       "    }\n",
       "\n",
       "    .dataframe tbody tr th {\n",
       "        vertical-align: top;\n",
       "    }\n",
       "\n",
       "    .dataframe thead th {\n",
       "        text-align: right;\n",
       "    }\n",
       "</style>\n",
       "<table border=\"1\" class=\"dataframe\">\n",
       "  <thead>\n",
       "    <tr style=\"text-align: right;\">\n",
       "      <th></th>\n",
       "      <th>Location</th>\n",
       "      <th>Counts</th>\n",
       "    </tr>\n",
       "  </thead>\n",
       "  <tbody>\n",
       "    <tr>\n",
       "      <td>0</td>\n",
       "      <td>GA</td>\n",
       "      <td>33844</td>\n",
       "    </tr>\n",
       "    <tr>\n",
       "      <td>1</td>\n",
       "      <td>Stop</td>\n",
       "      <td>95</td>\n",
       "    </tr>\n",
       "    <tr>\n",
       "      <td>2</td>\n",
       "      <td>Signal</td>\n",
       "      <td>4420</td>\n",
       "    </tr>\n",
       "    <tr>\n",
       "      <td>3</td>\n",
       "      <td>Giveway</td>\n",
       "      <td>37</td>\n",
       "    </tr>\n",
       "  </tbody>\n",
       "</table>\n",
       "</div>"
      ],
      "text/plain": [
       "  Location  Counts\n",
       "0       GA   33844\n",
       "1     Stop      95\n",
       "2   Signal    4420\n",
       "3  Giveway      37"
      ]
     },
     "execution_count": 30,
     "metadata": {},
     "output_type": "execute_result"
    }
   ],
   "source": [
    "#data frame to loss counts\n",
    "counts_all_states = [['All', all_counts], ['Stop', all_stop_counts],['Signal', all_signal_counts], ['Giveway',all_giveway_counts]]\n",
    "ga_counts = [['GA', ga_count],['Stop', ga_stop_counts], ['Signal', ga_signal_counts], ['Giveway',ga_giveway_counts]]\n",
    "all_counts_df = pd.DataFrame(counts_all_states, columns = ['Location', 'Counts'])\n",
    "ga_counts_df = pd.DataFrame(ga_counts, columns = ['Location', 'Counts'])\n",
    "\n",
    "ga_counts_df\n"
   ]
  },
  {
   "cell_type": "code",
   "execution_count": 33,
   "metadata": {},
   "outputs": [
    {
     "data": {
      "image/png": "[encoded data removed]",
      "text/plain": [
       "<Figure size 432x288 with 1 Axes>"
      ]
     },
     "metadata": {
      "needs_background": "light"
     },
     "output_type": "display_data"
    }
   ],
   "source": [
    "#all state likelyhood graph\n",
    "x = ['Stop Sign', 'Light', 'Yield']\n",
    "y = all_per_df['Percentage']\n",
    "\n",
    "fig, ax = plt.subplots()    \n",
    "width = 0.75 # the width of the bars \n",
    "ind = np.arange(len(y))  # the x locations for the groups\n",
    "ax.barh(ind, y, width, color=\"blue\")\n",
    "ax.set_yticks(ind+width/2)\n",
    "ax.set_yticklabels(x, minor=False)\n",
    "plt.title('US Likelihood of Delay at a TCD')\n",
    "plt.xlabel('Chance of Delay')\n",
    "plt.ylabel('Traffic Control Device')      \n",
    "#plt.show()\n",
    "plt.savefig('all_state_Likelyhood.png')"
   ]
  },
  {
   "cell_type": "code",
   "execution_count": 34,
   "metadata": {},
   "outputs": [
    {
     "data": {
      "image/png": "[encoded data removed]",
      "text/plain": [
       "<Figure size 432x288 with 1 Axes>"
      ]
     },
     "metadata": {
      "needs_background": "light"
     },
     "output_type": "display_data"
    }
   ],
   "source": [
    "#GA likelyhood graph\n",
    "x = ['Stop', 'Light', 'Yield']\n",
    "y = ga_per_df['Percentage']\n",
    "\n",
    "fig, ax = plt.subplots()    \n",
    "width = 0.75 # the width of the bars \n",
    "ind = np.arange(len(y))  # the x locations for the groups\n",
    "ax.barh(ind, y, width, color=\"black\")\n",
    "ax.set_yticks(ind+width/2)\n",
    "ax.set_yticklabels(x, minor=False)\n",
    "plt.title('GA Likelihood of Delay at a TCD')\n",
    "plt.xlabel('Chance of Delay')\n",
    "plt.ylabel('Traffic Control Device')      \n",
    "#plt.show()\n",
    "plt.savefig('ga_Likelyhood.png')"
   ]
  },
  {
   "cell_type": "code",
   "execution_count": null,
   "metadata": {},
   "outputs": [],
   "source": [
    "plt.plot([1, 2, 3, 4])\n",
    "plt.ylabel('some numbers')\n",
    "plt.show()"
   ]
  },
  {
   "cell_type": "code",
   "execution_count": 35,
   "metadata": {},
   "outputs": [
    {
     "data": {
      "image/png": "[encoded data removed]",
      "text/plain": [
       "<Figure size 432x288 with 1 Axes>"
      ]
     },
     "metadata": {
      "needs_background": "light"
     },
     "output_type": "display_data"
    }
   ],
   "source": [
    "#all state Severity graph\n",
    "x = ['Stop', 'Light', 'Yield']\n",
    "y = all_st_avg['Average']\n",
    "\n",
    "fig, ax = plt.subplots()    \n",
    "width = 0.75 # the width of the bars \n",
    "ind = np.arange(len(y))  # the x locations for the groups\n",
    "ax.barh(ind, y, width, color=\"green\")\n",
    "ax.set_yticks(ind+width/2)\n",
    "ax.set_yticklabels(x, minor=False)\n",
    "plt.title('All State Severity by TCD')\n",
    "plt.xlabel('Severity Average')\n",
    "plt.ylabel('Traffic Control Device')      \n",
    "#plt.show()\n",
    "plt.savefig('all_state_tcd_sev.png')"
   ]
  },
  {
   "cell_type": "code",
   "execution_count": 36,
   "metadata": {},
   "outputs": [
    {
     "data": {
      "image/png": "[encoded data removed]",
      "text/plain": [
       "<Figure size 432x288 with 1 Axes>"
      ]
     },
     "metadata": {
      "needs_background": "light"
     },
     "output_type": "display_data"
    }
   ],
   "source": [
    "#GA Severity graph\n",
    "x = ['Stop', 'Light', 'Yield']\n",
    "y = ga_st_avg['GA_Average']\n",
    "\n",
    "fig, ax = plt.subplots()    \n",
    "width = 0.75 # the width of the bars \n",
    "ind = np.arange(len(y))  # the x locations for the groups\n",
    "ax.barh(ind, y, width, color=\"red\")\n",
    "ax.set_yticks(ind+width/2)\n",
    "ax.set_yticklabels(x, minor=False)\n",
    "plt.title('Georgia Severity by TCD')\n",
    "plt.xlabel('Severity Average')\n",
    "plt.ylabel('Traffic Control Device')      \n",
    "#plt.show()\n",
    "plt.savefig('ga_tcd_sev.png')"
   ]
  },
  {
   "cell_type": "code",
   "execution_count": null,
   "metadata": {},
   "outputs": [],
   "source": []
  },
  {
   "cell_type": "code",
   "execution_count": null,
   "metadata": {},
   "outputs": [],
   "source": []
  },
  {
   "cell_type": "code",
   "execution_count": null,
   "metadata": {},
   "outputs": [],
   "source": []
  }
 ],
 "metadata": {
  "kernelspec": {
   "display_name": "Python 3",
   "language": "python",
   "name": "python3"
  },
  "language_info": {
   "codemirror_mode": {
    "name": "ipython",
    "version": 3
   },
   "file_extension": ".py",
   "mimetype": "text/x-python",
   "name": "python",
   "nbconvert_exporter": "python",
   "pygments_lexer": "ipython3",
   "version": "3.7.4"
  }
 },
 "nbformat": 4,
 "nbformat_minor": 4
}
